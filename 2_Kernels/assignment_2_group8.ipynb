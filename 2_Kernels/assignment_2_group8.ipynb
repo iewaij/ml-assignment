{
 "cells": [
  {
   "cell_type": "markdown",
   "id": "882e094c-66a5-4000-b295-06932cd59e7e",
   "metadata": {},
   "source": [
    "# Machine Learning II: Assignments 2\n",
    "Leon Berghoff, Jiawei Li, Strahinja Trenkic, Otto Riess"
   ]
  },
  {
   "cell_type": "code",
   "execution_count": 2,
   "id": "26b72a63-b1b1-4286-8ceb-e89620454723",
   "metadata": {},
   "outputs": [],
   "source": [
    "import pandas as pd\n",
    "from bank_mkt import import_dataset, split_dataset, transform\n",
    "from sklearn.preprocessing import FunctionTransformer, StandardScaler, OneHotEncoder\n",
    "from sklearn.pipeline import make_pipeline\n",
    "from sklearn.compose import ColumnTransformer"
   ]
  },
  {
   "cell_type": "markdown",
   "id": "7dfbecf1-3ed8-4bdd-ae2b-f6a92afbb092",
   "metadata": {},
   "source": [
    "# Data Preparation\n",
    "\n",
    "A retail bank has a customer call centre as one of its units, through which the bank communicates with potential new clients and offers term deposits. Term deposits are defined as a fixed-term investment that includes the deposit of money into an account at a financial institution. Such an instrument would generate revenue for the bank, hence the bank records the outcomes of these phone calls along side other data related to the person being called, the economic indicators and certain parameters of the previous contact with the given person. By analysing previous phone calls the bank would like to improve its telemarketing results. \n",
    "\n",
    "The Bank Marketing dataset was collected by Moro, Cortez, and Rita (2014) and ordered by date ranging from May 2008 to November 2010."
   ]
  },
  {
   "cell_type": "code",
   "execution_count": 3,
   "id": "10d6ce12-dfbc-4818-acab-5bb3b4b9c10f",
   "metadata": {},
   "outputs": [],
   "source": [
    "bank_mkt = import_dataset(\"BankMarketing.csv\")\n",
    "\n",
    "func_transformer = FunctionTransformer(transform, kw_args={\"gen\": [\"days\", \"has_previous\"]})\n",
    "\n",
    "num_features = [\"month\",\n",
    "                \"day_of_week\",\n",
    "                \"campaign\",\n",
    "                \"previous\",\n",
    "                \"emp.var.rate\",\n",
    "                \"cons.price.idx\",\n",
    "                \"cons.conf.idx\",\n",
    "                \"euribor3m\",\n",
    "                \"nr.employed\"]\n",
    "standard_scaler = ColumnTransformer([(\"scaler\", StandardScaler(), num_features)], remainder=\"passthrough\")\n",
    "\n",
    "preprocessor = make_pipeline(func_transformer, standard_scaler)\n",
    "\n",
    "X_train, y_train, X_test, y_test, *_ = split_dataset(bank_mkt, preprocessor, test_size=0.6)"
   ]
  },
  {
   "cell_type": "markdown",
   "id": "6308b3d7-2fa2-4804-8c79-dd6b02d2234f",
   "metadata": {},
   "source": [
    "# Metrics"
   ]
  },
  {
   "cell_type": "code",
   "execution_count": null,
   "id": "8ed42acf-3817-4466-a47e-c3cd10955526",
   "metadata": {},
   "outputs": [],
   "source": []
  },
  {
   "cell_type": "markdown",
   "id": "96b7d80a-7f9b-454c-b998-e297aec63f24",
   "metadata": {},
   "source": [
    "# Hyperparameters"
   ]
  },
  {
   "cell_type": "code",
   "execution_count": 5,
   "id": "58376e32-5023-48f0-8fab-f51b670b8130",
   "metadata": {},
   "outputs": [],
   "source": [
    "from sklearn.svm import SVC\n",
    "from sklearn.utils.fixes import loguniform\n",
    "from sklearn.model_selection import GridSearchCV, RandomizedSearchCV"
   ]
  },
  {
   "cell_type": "code",
   "execution_count": null,
   "id": "cd29c503-12e3-4e8f-8304-18502661ca03",
   "metadata": {},
   "outputs": [],
   "source": [
    "poly_svm = SVC(kernel=\"poly\", class_weight=\"balanced\", random_state=42)\n",
    "\n",
    "poly_distributions = {\"C\": loguniform(1e0, 1e3),\n",
    "    \"degree\": loguniform(1e0, 1e3),\n",
    "    \"gamma\": [\"scale\", \"auto\"],\n",
    "    }\n",
    "\n",
    "poly_search = RandomizedSearchCV(poly_svm,\n",
    "    poly_distributions,\n",
    "    scoring=\"average_precision\",\n",
    "    cv=5,\n",
    "    n_jobs=-1,\n",
    "    n_iter=16)\n",
    "\n",
    "poly_fit = poly_search.fit(X_train, y_train)\n",
    "poly_results = random_search.cv_results_\n",
    "poly_best_params = random_search.best_params_\n",
    "poly_best_score = random_search.best_score_\n",
    "\n",
    "print(f\"best parameters found: {poly_best_params}, with mean test score: {poly_best_score}\")"
   ]
  },
  {
   "cell_type": "code",
   "execution_count": null,
   "id": "8042d3e7-375d-4cdb-81ce-e60b69ff716f",
   "metadata": {},
   "outputs": [],
   "source": []
  }
 ],
 "metadata": {
  "kernelspec": {
   "display_name": "Python 3",
   "language": "python",
   "name": "python3"
  },
  "language_info": {
   "codemirror_mode": {
    "name": "ipython",
    "version": 3
   },
   "file_extension": ".py",
   "mimetype": "text/x-python",
   "name": "python",
   "nbconvert_exporter": "python",
   "pygments_lexer": "ipython3",
   "version": "3.9.1"
  }
 },
 "nbformat": 4,
 "nbformat_minor": 5
}
