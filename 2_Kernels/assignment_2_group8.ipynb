{
 "cells": [
  {
   "cell_type": "markdown",
   "id": "882e094c-66a5-4000-b295-06932cd59e7e",
   "metadata": {},
   "source": [
    "# Machine Learning II: Assignments 2\n",
    "Leon Berghoff, Jiawei Li, Strahinja Trenkic, Otto Riess"
   ]
  },
  {
   "cell_type": "code",
   "execution_count": 1,
   "id": "26b72a63-b1b1-4286-8ceb-e89620454723",
   "metadata": {},
   "outputs": [],
   "source": [
    "import pandas as pd\n",
    "from bank_mkt import import_dataset, split_dataset, transform\n",
    "from sklearn.preprocessing import FunctionTransformer, StandardScaler, OneHotEncoder\n",
    "from sklearn.pipeline import make_pipeline\n",
    "from sklearn.compose import ColumnTransformer"
   ]
  },
  {
   "cell_type": "markdown",
   "id": "7dfbecf1-3ed8-4bdd-ae2b-f6a92afbb092",
   "metadata": {},
   "source": [
    "# Data Preparation"
   ]
  },
  {
   "cell_type": "code",
   "execution_count": 7,
   "id": "10d6ce12-dfbc-4818-acab-5bb3b4b9c10f",
   "metadata": {},
   "outputs": [],
   "source": [
    "bank_mkt = import_dataset(\"BankMarketing.csv\")\n",
    "\n",
    "func_transformer = FunctionTransformer(transform, kw_args={\"gen\": [\"days\", \"has_previous\"]})\n",
    "\n",
    "num_features = [\"month\",\n",
    "                \"day_of_week\",\n",
    "                \"campaign\",\n",
    "                \"previous\",\n",
    "                \"emp.var.rate\",\n",
    "                \"cons.price.idx\",\n",
    "                \"cons.conf.idx\",\n",
    "                \"euribor3m\",\n",
    "                \"nr.employed\"]\n",
    "standard_scaler = ColumnTransformer([(\"scaler\", StandardScaler(), num_features)], remainder=\"passthrough\")\n",
    "\n",
    "preprocessor = make_pipeline(func_transformer, standard_scaler)\n",
    "\n",
    "X_train, y_train, X_test, y_test, *_ = split_dataset(bank_mkt, preprocessor)"
   ]
  },
  {
   "cell_type": "code",
   "execution_count": null,
   "id": "908e6432-e466-4f37-9e34-86168be5d0b0",
   "metadata": {},
   "outputs": [],
   "source": []
  }
 ],
 "metadata": {
  "kernelspec": {
   "display_name": "Python 3",
   "language": "python",
   "name": "python3"
  },
  "language_info": {
   "codemirror_mode": {
    "name": "ipython",
    "version": 3
   },
   "file_extension": ".py",
   "mimetype": "text/x-python",
   "name": "python",
   "nbconvert_exporter": "python",
   "pygments_lexer": "ipython3",
   "version": "3.9.1"
  }
 },
 "nbformat": 4,
 "nbformat_minor": 5
}
