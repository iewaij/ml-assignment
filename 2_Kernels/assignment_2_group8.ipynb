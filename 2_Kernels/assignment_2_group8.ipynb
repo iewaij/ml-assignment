{
 "cells": [
  {
   "cell_type": "markdown",
   "id": "941a73e4",
   "metadata": {},
   "source": [
    "# Machine Learning II: Assignments 2\n",
    "Leon Berghoff, Jiawei Li, Strahinja Trenkic, Otto Riess"
   ]
  },
  {
   "cell_type": "code",
   "execution_count": 1,
   "id": "047f7afb",
   "metadata": {},
   "outputs": [],
   "source": [
    "import pandas as pd\n",
    "from bank_mkt import import_dataset, split_dataset, transform\n",
    "from sklearn.preprocessing import FunctionTransformer, StandardScaler, OneHotEncoder\n",
    "from sklearn.pipeline import make_pipeline\n",
    "from sklearn.compose import ColumnTransformer"
   ]
  },
  {
   "cell_type": "markdown",
   "id": "b445f7b0",
   "metadata": {},
   "source": [
    "# Data Preparation\n",
    "\n",
    "Term deposits are defined as a fixed-term investment that includes the deposit of money into an account at a financial institution. Such an instrument would generate revenue for the bank, hence the bank records the outcomes of these phone calls along side other data related to the person being called, the economic indicators and certain parameters of the previous contact with the given person. By analysing previous phone calls data, the bank would like to improve its telemarketing results. The bank marketing dataset was collected by Moro, Cortez, and Rita (2014) and ordered by date ranging from May 2008 to November 2010."
   ]
  },
  {
   "cell_type": "code",
   "execution_count": 2,
   "id": "3924c9ac",
   "metadata": {},
   "outputs": [],
   "source": [
    "bank_mkt = import_dataset(\"BankMarketing.csv\")\n",
    "\n",
    "func_transformer = FunctionTransformer(transform)\n",
    "\n",
    "num_features = [\"month\",\n",
    "                \"day_of_week\",\n",
    "                \"campaign\",\n",
    "                \"previous\",\n",
    "                \"emp.var.rate\",\n",
    "                \"cons.price.idx\",\n",
    "                \"cons.conf.idx\",\n",
    "                \"euribor3m\",\n",
    "                \"nr.employed\"]\n",
    "\n",
    "standard_scaler = ColumnTransformer([(\"scaler\", StandardScaler(), num_features)], remainder=\"passthrough\")\n",
    "\n",
    "preprocessor = make_pipeline(func_transformer, standard_scaler)\n",
    "\n",
    "X_train, y_train, X_test, y_test, *_ = split_dataset(bank_mkt, preprocessor, test_size=0.8)"
   ]
  },
  {
   "cell_type": "markdown",
   "id": "f7f3d9ae",
   "metadata": {},
   "source": [
    "# Metrics"
   ]
  },
  {
   "cell_type": "code",
   "execution_count": null,
   "id": "134c0804",
   "metadata": {},
   "outputs": [],
   "source": []
  },
  {
   "cell_type": "markdown",
   "id": "229fe7bf",
   "metadata": {},
   "source": [
    "# Hyperparameters"
   ]
  },
  {
   "cell_type": "code",
   "execution_count": 3,
   "id": "8547962f",
   "metadata": {},
   "outputs": [],
   "source": [
    "from sklearn.svm import SVC\n",
    "from sklearn.utils.fixes import loguniform\n",
    "from sklearn.model_selection import GridSearchCV, RandomizedSearchCV"
   ]
  },
  {
   "cell_type": "code",
   "execution_count": 4,
   "id": "7f37de20",
   "metadata": {},
   "outputs": [
    {
     "name": "stdout",
     "output_type": "stream",
     "text": [
      "best parameters found: {'C': 19.424418394606366, 'degree': 1, 'gamma': 'scale'}, with mean test score: 0.5104245363677274\n"
     ]
    }
   ],
   "source": [
    "poly_svm = SVC(kernel=\"poly\", class_weight=\"balanced\", random_state=42)\n",
    "\n",
    "poly_distributions = {\"C\": loguniform(1e0, 1e2),\n",
    "    \"degree\": [1, 2, 3],\n",
    "    \"gamma\": [\"scale\"],\n",
    "    }\n",
    "\n",
    "poly_search = RandomizedSearchCV(poly_svm,\n",
    "    poly_distributions,\n",
    "    scoring=\"average_precision\",\n",
    "    cv=5,\n",
    "    n_jobs=-1,\n",
    "    n_iter=6)\n",
    "\n",
    "poly_fit = poly_search.fit(X_train, y_train)\n",
    "poly_results = poly_fit.cv_results_\n",
    "poly_best_params = poly_fit.best_params_\n",
    "poly_best_score = poly_fit.best_score_\n",
    "\n",
    "print(f\"best parameters found: {poly_best_params}, with mean test score: {poly_best_score}\")"
   ]
  },
  {
   "cell_type": "code",
   "execution_count": null,
   "id": "2cbc196c",
   "metadata": {},
   "outputs": [],
   "source": []
  }
 ],
 "metadata": {
  "kernelspec": {
   "display_name": "Python 3",
   "language": "python",
   "name": "python3"
  },
  "language_info": {
   "codemirror_mode": {
    "name": "ipython",
    "version": 3
   },
   "file_extension": ".py",
   "mimetype": "text/x-python",
   "name": "python",
   "nbconvert_exporter": "python",
   "pygments_lexer": "ipython3",
   "version": "3.9.1"
  },
  "metadata": {
   "interpreter": {
    "hash": "69b07dcd8dcf0ba4042df67be9ef2eed985aa5c859eb9bf3efab719c7b9e01d8"
   }
  }
 },
 "nbformat": 4,
 "nbformat_minor": 5
}
