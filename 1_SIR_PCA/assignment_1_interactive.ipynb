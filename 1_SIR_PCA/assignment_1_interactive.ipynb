{
 "cells": [
  {
   "cell_type": "markdown",
   "metadata": {},
   "source": [
    "# Machine Learning II: Assignments 1\n",
    "Leon Berghoff, Jiawei Li, Strahinja Trenkic, Otto Riess"
   ]
  },
  {
   "cell_type": "code",
   "execution_count": 1,
   "metadata": {},
   "outputs": [],
   "source": [
    "# Make sure you have installed the required package and restarted the notebook server\n",
    "# %pip install ipywidgets ipympl"
   ]
  },
  {
   "cell_type": "markdown",
   "metadata": {},
   "source": [
    "## Covid-19 Disasters\n",
    "The SIR model is a 3-compartment model. Extend this model to 4 compartments, where the 4th compartment is for deaths $D$. Mortality is modelled by new transitions from $I → D$ deﬁned by the mortality rate $µ$. Susceptible and Recovered do not die."
   ]
  },
  {
   "cell_type": "markdown",
   "metadata": {},
   "source": [
    "(a) Derive the corresponding system of equations for $S$, $I$, $R$ and $D$. But this is not the only difference to SIR. In addition, the basic reproduction number may now depend on $\\mu$ as well, how?"
   ]
  },
  {
   "cell_type": "markdown",
   "metadata": {},
   "source": [
    "The SIRD model is:\n",
    "\n",
    "$$\n",
    "\\begin{aligned}\n",
    "\\frac{d S}{d t} &= -\\frac{\\beta I S}{N} \\\\\n",
    "\\frac{d I}{d t} &=\\frac{\\beta I S}{N}-\\gamma I-\\mu I \\\\\n",
    "\\frac{d R}{d t} &=\\gamma I \\\\\n",
    "\\frac{d D}{d t} &=\\mu I \\\\\n",
    "\\end{aligned}\n",
    "$$\n",
    "\n",
    "Assume that the birth rates and death rates are equal, the population $N$ is constant:\n",
    "\n",
    "$$\n",
    "S + I + R + D = N\n",
    "$$\n",
    "\n",
    "The basic reproduction number, $R_0$, is defined as the expected number of cases directly caused by one case at time 0 in a population where all individuals are susceptible. In SIRD model, the $R_0$ is:\n",
    "\n",
    "$$\n",
    "R_0 = \\frac{\\beta}{\\gamma + \\mu}\n",
    "$$"
   ]
  },
  {
   "cell_type": "markdown",
   "metadata": {},
   "source": [
    "(b) Assume that the basic reproduction number $R_{0}$ for B.1.1.7 is not exactly known but only the range $R_{0} \\in[3.0,4.0]$. Assume that the mortality rate $\\mu$ is also not exactly known but only the range $\\mu \\in[0.4 \\%, 4 \\%]$. Study how these parameter uncertainties affect the prediction of $D$ at $t=365 d$. What about the cumulative number of deaths after a year?"
   ]
  },
  {
   "cell_type": "code",
   "execution_count": 8,
   "metadata": {},
   "outputs": [],
   "source": [
    "%matplotlib inline\n",
    "import ipywidgets as widgets\n",
    "from ipywidgets import interactive\n",
    "import matplotlib.pyplot as plt\n",
    "import numpy as np\n",
    "from scipy.integrate import odeint"
   ]
  },
  {
   "cell_type": "code",
   "execution_count": 9,
   "metadata": {},
   "outputs": [
    {
     "data": {
      "application/vnd.jupyter.widget-view+json": {
       "model_id": "5c404fceb0fe4f3a8882aa35f97079d0",
       "version_major": 2,
       "version_minor": 0
      },
      "text/plain": [
       "interactive(children=(FloatSlider(value=0.0, description='m', max=2.0, min=-2.0), FloatSlider(value=0.0, descr…"
      ]
     },
     "metadata": {},
     "output_type": "display_data"
    }
   ],
   "source": [
    "# A Simple Example\n",
    "def f(m, b):\n",
    "    plt.figure(2)\n",
    "    x = np.linspace(-10, 10, num=1000)\n",
    "    plt.plot(x, m * x + b)\n",
    "    plt.ylim(-5, 5)\n",
    "    plt.show()\n",
    "\n",
    "interactive_plot = interactive(f, m=(-2.0, 2.0), b=(-3, 3, 0.5))\n",
    "interactive_plot"
   ]
  },
  {
   "cell_type": "code",
   "execution_count": 7,
   "metadata": {},
   "outputs": [
    {
     "data": {
      "application/vnd.jupyter.widget-view+json": {
       "model_id": "",
       "version_major": 2,
       "version_minor": 0
      },
      "text/plain": [
       "interactive(children=(FloatSlider(value=3.0, description='r_nought', max=4.0, min=3.0), FloatSlider(value=0.5,…"
      ]
     },
     "metadata": {},
     "output_type": "display_data"
    }
   ],
   "source": [
    "# Another example that uses SIRD model\n",
    "# The output can be further tweaked following the documentation:\n",
    "# https://ipywidgets.readthedocs.io/en/latest/examples/Using%20Interact.html#More-control-over-the-user-interface:-interactive_output\n",
    "\n",
    "def plot_sird(r_nought, gamma, mu):\n",
    "    # Population size\n",
    "    N = 100\n",
    "    \n",
    "    # Initially, only 1 infected\n",
    "    I0 = 1\n",
    "    \n",
    "    # Initially, no recovered individuals, no death\n",
    "    R0, D0 = 0, 0\n",
    "\n",
    "    # Initially, S0=N-I0-R0-D0\n",
    "    S0 = N - I0 - R0 - D0\n",
    "\n",
    "    # Basic reproduction number r_nought = beta / (gamma + mu)\n",
    "    beta = r_nought * (gamma + mu)\n",
    "            \n",
    "    # SIRD model\n",
    "    def deriv(y, t, N, beta, gamma, mu):\n",
    "        S, I, R, D = y\n",
    "        dSdt = -beta * S * I / N\n",
    "        dIdt = beta * S * I / N - gamma * I - mu * I\n",
    "        dRdt = gamma * I\n",
    "        dDdt = mu * I\n",
    "        return dSdt, dIdt, dRdt, dDdt\n",
    "\n",
    "    # Initial conditions vector\n",
    "    y0 = (S0, I0, R0, D0)\n",
    "    \n",
    "    # A grid of time points (in days)\n",
    "    t = np.linspace(0, 365, 365)\n",
    "    \n",
    "    # Integrate the SIRD equations over the time grid t\n",
    "    ret = odeint(deriv, y0, t, args=(N, beta, gamma, mu))\n",
    "    S, I, R, D = ret.T\n",
    "    \n",
    "    # Plot the data on four separate curves for S(t), I(t), R(t) and D(t)\n",
    "    fig, ax = plt.subplots(figsize=(10,6), constrained_layout=True)\n",
    "    fig.suptitle('SIRD Model with Different $R_0$, $\\gamma$ and $\\mu$', fontsize=14, fontweight='bold')\n",
    "    ax.set_title(f'$\\\\beta$={round(beta,2)}, $\\\\gamma$={round(gamma,2)}, $\\\\mu$={round(mu,3)}')\n",
    "    ax.plot(t, S/N, 'b', alpha=0.5, lw=1, label='Susceptible')\n",
    "    ax.plot(t, I/N, 'r', alpha=0.5, lw=1, label='Infected')\n",
    "    ax.plot(t, R/N, 'g', alpha=0.5, lw=1, label='Recovered')\n",
    "    ax.plot(t, D/N, 'k', alpha=0.5, lw=1, label='Deaths')\n",
    "    ax.set_xlabel('Time / days')\n",
    "    ax.set_ylabel('Fraction')\n",
    "    ax.set_ylim(0,1)\n",
    "    ax.yaxis.set_tick_params(length=0)\n",
    "    ax.xaxis.set_tick_params(length=0)\n",
    "    ax.grid(b=True, which='major', c='w', lw=1, ls='-')\n",
    "    ax.legend()\n",
    "    return ax\n",
    "\n",
    "interactive_plot = interactive(plot_sird, r_nought=(3,4,0.1), gamma=(0.01,1,0.01), mu=(0.004,0.04,0.001))\n",
    "interactive_plot"
   ]
  },
  {
   "cell_type": "code",
   "execution_count": 11,
   "metadata": {},
   "outputs": [],
   "source": [
    "# The code below is essentially the same as the examples but goes lower level\n",
    "\n",
    "%matplotlib widget\n",
    "import ipywidgets as widgets\n",
    "from ipywidgets import interactive\n",
    "import matplotlib.pyplot as plt\n",
    "import numpy as np\n",
    "from scipy.integrate import odeint"
   ]
  },
  {
   "cell_type": "code",
   "execution_count": 12,
   "metadata": {},
   "outputs": [],
   "source": [
    "def plot_sird(percent=None, r_nought=None, beta=None, gamma=None, mu=None):\n",
    "    # Population size\n",
    "    N = 100\n",
    "    \n",
    "    if percent is None:\n",
    "        # Initially, only 1 infected\n",
    "        I0 = 1\n",
    "    else:\n",
    "        # Start with more than 1% infected individuals\n",
    "        I0 = percent * N\n",
    "    \n",
    "    # Initially, no recovered individuals, no death\n",
    "    R0, D0 = 0, 0\n",
    "\n",
    "    # Initially, S0=N-I0-R0-D0\n",
    "    S0 = N - I0 - R0 - D0\n",
    "\n",
    "    # Basic reproduction number r_nought = beta / (gamma + mu)\n",
    "    if beta is None:\n",
    "        beta = r_nought * (gamma + mu)\n",
    "    elif gamma is None:\n",
    "        gamma = beta / r_nought - mu\n",
    "            \n",
    "    # SIRD model\n",
    "    def deriv(y, t, N, beta, gamma, mu):\n",
    "        S, I, R, D = y\n",
    "        dSdt = -beta * S * I / N\n",
    "        dIdt = beta * S * I / N - gamma * I - mu * I\n",
    "        dRdt = gamma * I\n",
    "        dDdt = mu * I\n",
    "        return dSdt, dIdt, dRdt, dDdt\n",
    "\n",
    "    # Initial conditions vector\n",
    "    y0 = (S0, I0, R0, D0)\n",
    "    \n",
    "    # A grid of time points (in days)\n",
    "    t = np.linspace(0, 365, 365)\n",
    "    \n",
    "    # Integrate the SIRD equations over the time grid t\n",
    "    ret = odeint(deriv, y0, t, args=(N, beta, gamma, mu))\n",
    "    S, I, R, D = ret.T\n",
    "    \n",
    "    # Plot the data on four separate curves for S(t), I(t), R(t) and D(t)\n",
    "    ax.set_title(f'$\\\\beta$={round(beta,2)}, $\\\\gamma$={round(gamma,2)}, $\\\\mu$={round(mu,3)}')\n",
    "    ax.plot(t, S/N, 'b', alpha=0.5, lw=1, label='Susceptible')\n",
    "    ax.plot(t, I/N, 'r', alpha=0.5, lw=1, label='Infected')\n",
    "    ax.plot(t, R/N, 'g', alpha=0.5, lw=1, label='Recovered')\n",
    "    ax.plot(t, D/N, 'k', alpha=0.5, lw=1, label='Deaths')\n",
    "    ax.legend()\n",
    "    return ax"
   ]
  },
  {
   "cell_type": "code",
   "execution_count": 13,
   "metadata": {},
   "outputs": [
    {
     "data": {
      "application/vnd.jupyter.widget-view+json": {
       "model_id": "eb35e35cbe4841768c7ce4d8e9efabb3",
       "version_major": 2,
       "version_minor": 0
      },
      "text/plain": [
       "VBox(children=(Output(), VBox(children=(HBox(children=(Label(value='$R_0$:', layout=Layout(width='2em')), Floa…"
      ]
     },
     "metadata": {},
     "output_type": "display_data"
    }
   ],
   "source": [
    "output = widgets.Output()\n",
    "\n",
    "with output:\n",
    "    fig, ax = plt.subplots(figsize=(6,3), constrained_layout=True)\n",
    "    fig.suptitle('SIRD Model with Different $R_0$, $\\gamma$ and $\\mu$', fontsize=14, fontweight='bold')\n",
    "    # Remove the toolbar and header\n",
    "    fig.canvas.toolbar_visible = False\n",
    "    fig.canvas.header_visible = False\n",
    "    fig.canvas.footer_visible = False\n",
    "    ax.set_xlabel('Time / days')\n",
    "    ax.set_ylabel('Fraction')\n",
    "    ax.set_ylim(0,1)\n",
    "    ax.yaxis.set_tick_params(length=0)\n",
    "    ax.xaxis.set_tick_params(length=0)\n",
    "    ax.grid(b=True, which='major', c='w', lw=1, ls='-')\n",
    "\n",
    "plot_sird(r_nought=3, gamma=0.01, mu=0.004)\n",
    "\n",
    "# Create control elements\n",
    "label_r_nought = widgets.Label(r'$R_0$:', layout=widgets.Layout(width='2em'))\n",
    "slider_r_nought = widgets.FloatSlider(\n",
    "    value=3,\n",
    "    min=3,\n",
    "    max=4)\n",
    "label_gamma = widgets.Label(r'$\\gamma$:', layout=widgets.Layout(width='2em'))\n",
    "slider_gamma = widgets.FloatSlider(\n",
    "    value=0.01,\n",
    "    min=0.01,\n",
    "    max=1,\n",
    "    step=0.01)\n",
    "label_mu = widgets.Label(r'$\\mu$:', layout=widgets.Layout(width='2em'))\n",
    "slider_mu = widgets.FloatSlider(\n",
    "    value=0.004,\n",
    "    min=0.004,\n",
    "    max=0.0401,\n",
    "    step=0.001,\n",
    "    readout_format='.3f')\n",
    "\n",
    "# Callback functions\n",
    "def update_r_nought(slider):\n",
    "    ax.lines = []\n",
    "    plot_sird(r_nought=slider.new, gamma=slider_gamma.value, mu=slider_mu.value)\n",
    "\n",
    "def update_gamma(slider):\n",
    "    ax.lines = []\n",
    "    plot_sird(r_nought=slider_r_nought.value, gamma=slider.new, mu=slider_mu.value)\n",
    "\n",
    "def update_mu(slider):\n",
    "    ax.lines = []\n",
    "    plot_sird(r_nought=slider_r_nought.value, gamma=slider_gamma.value, mu=slider.new)\n",
    "\n",
    "# Observe change\n",
    "slider_r_nought.observe(update_r_nought, 'value')\n",
    "slider_gamma.observe(update_gamma, 'value')\n",
    "slider_mu.observe(update_mu, 'value')\n",
    "\n",
    "controls =  widgets.VBox([widgets.HBox([label_r_nought, slider_r_nought]),\n",
    "            widgets.HBox([label_gamma, slider_gamma]),\n",
    "            widgets.HBox([label_mu, slider_mu])])\n",
    "\n",
    "display(widgets.VBox([output, controls]))"
   ]
  },
  {
   "cell_type": "markdown",
   "metadata": {},
   "source": [
    "By tweaking the parameters in the plot above, we can see that a higher $R_0$ leads to higher number of deaths. Also, a higher death rate leads to higher number of deaths, which was quite intuitive.\n",
    "\n",
    "As we are progressing from $R_0$ $= 3$ to $R_0$ $= 4$, we can dinamically notice a steepening in the curves of Infected, Recovered and Died. \n",
    "\n",
    "As for the cumulative number of dead at 365t we notice that around 20% of the population dies before we reach saturation at $R_0= 3$. This percentage climbs to around 25% at $R_0 = 4$"
   ]
  },
  {
   "cell_type": "markdown",
   "metadata": {},
   "source": [
    "(c) Study numerically the effects of a hard versus soft lockdown (by two for you reasonable values of $\\beta)$, in terms of $D(365 d)$. What about the cumulative number of deaths after a year? Assume $\\mu=1 \\%$ and a $\\gamma$ compatible with $R_{0}=4$."
   ]
  },
  {
   "cell_type": "code",
   "execution_count": 8,
   "metadata": {},
   "outputs": [
    {
     "data": {
      "application/vnd.jupyter.widget-view+json": {
       "model_id": "1b35f5aade394f9caceb0c21d5d04e7c",
       "version_major": 2,
       "version_minor": 0
      },
      "text/plain": [
       "VBox(children=(Output(), HBox(children=(Label(value='$\\\\beta$:', layout=Layout(width='2em')), FloatSlider(valu…"
      ]
     },
     "metadata": {},
     "output_type": "display_data"
    }
   ],
   "source": [
    "output = widgets.Output()\n",
    "\n",
    "with output:\n",
    "    fig, ax = plt.subplots(figsize=(6,3), constrained_layout=True)\n",
    "    fig.suptitle('SIRD Model with Different Lockdown Measure', fontsize=14, fontweight='bold')\n",
    "    ax.set_xlabel('Time / days')\n",
    "    ax.set_ylabel('Fraction')\n",
    "    ax.set_ylim(0,1)\n",
    "    ax.yaxis.set_tick_params(length=0)\n",
    "    ax.xaxis.set_tick_params(length=0)\n",
    "    ax.grid(b=True, which='major', c='w', lw=1, ls='-')\n",
    "    # Remove the toolbar and header\n",
    "    fig.canvas.toolbar_visible = False\n",
    "    fig.canvas.header_visible = False\n",
    "    fig.canvas.footer_visible = False\n",
    "\n",
    "plot_sird(r_nought=4, beta=0.1, mu=0.01)\n",
    "\n",
    "# Create control elements\n",
    "label_beta = widgets.Label(r'$\\beta$:', layout=widgets.Layout(width='2em'))\n",
    "slider_beta = widgets.FloatSlider(\n",
    "    value=0.1,\n",
    "    min=0.1,\n",
    "    max=10,\n",
    "    step=0.05)\n",
    "\n",
    "# Callback functions\n",
    "def update_beta(slider):\n",
    "    ax.lines = []\n",
    "    plot_sird(r_nought=4, beta=slider.new, mu=0.01)\n",
    "\n",
    "# Observe change\n",
    "slider_beta.observe(update_beta, 'value')\n",
    "\n",
    "controls = widgets.HBox([label_beta, slider_beta])\n",
    "\n",
    "display(widgets.VBox([output, controls]))"
   ]
  },
  {
   "cell_type": "markdown",
   "metadata": {},
   "source": [
    "By fixing $R_0$ at 4 and $\\mu$ at 0.01, we can see that a hard lockdown results in a much lower number of deaths than a soft lockdown.\n",
    "\n",
    "$$\n",
    "R_0 = \\frac{\\beta}{\\gamma + \\mu}\n",
    "$$\n",
    "\n",
    "Numerically this is equal to $R_0$ being harder and harder to push over 1 since the nominator of the fraction becomes smaller and smaller. Similarly, a higher transmision rate, all other factors fixed, will lead to a higher nominator and hence a larger $R_0$."
   ]
  },
  {
   "cell_type": "markdown",
   "metadata": {},
   "source": [
    "(b-c) Can you ﬁnd a way to derive and plot the effective reproduction number, $R$, as a function of time, given otherwise ﬁxed parameters?"
   ]
  },
  {
   "cell_type": "code",
   "execution_count": 5,
   "metadata": {},
   "outputs": [],
   "source": [
    "def plot_r_eff(beta, gamma, mu):\n",
    "    # Population size\n",
    "    N = 100\n",
    "\n",
    "    # Initially, only 1 infected, no recovered individuals, no death\n",
    "    I0, R0, D0 = 1, 0, 0\n",
    "\n",
    "    # Initially, S0=N-I0-R0-D0\n",
    "    S0 = N - I0 - R0 - D0\n",
    "\n",
    "    # Basic reproduction number R0\n",
    "    r_nought = beta / (gamma + mu)\n",
    "\n",
    "    # A grid of time points (in days)\n",
    "    t = np.linspace(0, 365, 365)\n",
    "\n",
    "    # SIRD model\n",
    "    def deriv(y, t, N, beta, gamma, mu):\n",
    "        S, I, R, D = y\n",
    "        dSdt = -beta * S * I / N\n",
    "        dIdt = beta * S * I / N - gamma * I - mu * I\n",
    "        dRdt = gamma * I\n",
    "        dDdt = mu * I\n",
    "        return dSdt, dIdt, dRdt, dDdt\n",
    "\n",
    "    # Initial conditions vector\n",
    "    y0 = (S0, I0, R0, D0)\n",
    "\n",
    "    # Integrate the SIRD equations over the time grid t\n",
    "    ret = odeint(deriv, y0, t, args=(N, beta, gamma, mu))\n",
    "    S, I, R, D = ret.T\n",
    "\n",
    "    # Plot the data on four separate curves for S(t), I(t), R(t) and D(t)\n",
    "    fig = plt.figure(facecolor='w')\n",
    "    # Remove the toolbar and header\n",
    "    fig.canvas.toolbar_visible = False\n",
    "    fig.canvas.header_visible = False\n",
    "    fig.canvas.footer_visible = False\n",
    "    fig.suptitle('The Effective Reproduction Number', fontsize=14, fontweight='bold')\n",
    "\n",
    "    ax = fig.add_subplot(111, axisbelow=True)\n",
    "    ax.plot(t, r_nought*S/N, 'gray', alpha=0.5, lw=2, label='R')\n",
    "    ax.set_title(f'beta={beta}, gamma={gamma}, mu={mu}')\n",
    "    ax.set_xlabel('Time / days')\n",
    "    ax.set_ylabel('Fraction')\n",
    "    ax.set_ylim(0,2)\n",
    "    ax.yaxis.set_tick_params(length=0)\n",
    "    ax.xaxis.set_tick_params(length=0)\n",
    "    ax.grid(b=True, which='major', c='w', lw=2, ls='-')\n",
    "    legend = ax.legend()\n",
    "    legend.get_frame().set_alpha(0.5)"
   ]
  },
  {
   "cell_type": "code",
   "execution_count": 6,
   "metadata": {},
   "outputs": [
    {
     "data": {
      "application/vnd.jupyter.widget-view+json": {
       "model_id": "2eb7e7b2a67942abb5ab803baec10a5e",
       "version_major": 2,
       "version_minor": 0
      },
      "text/plain": [
       "Canvas(toolbar=Toolbar(toolitems=[('Home', 'Reset original view', 'home', 'home'), ('Back', 'Back to previous …"
      ]
     },
     "metadata": {},
     "output_type": "display_data"
    }
   ],
   "source": [
    "plot_r_eff(beta=0.8, gamma=0.3, mu=0.05)"
   ]
  },
  {
   "cell_type": "markdown",
   "metadata": {},
   "source": [
    "(d) Free choice for the initial conditions $S(0)$ and initial prevalence, $I(0)$. Assume $R(0)=D(0)=0$. If you choose $N=1$, the compartments become fractions of the population number and you can remove $N$ from the entire system of equations. Start with more than $1 \\%$ of infected individuals (but not exactly $1 \\%)$."
   ]
  },
  {
   "cell_type": "code",
   "execution_count": 10,
   "metadata": {},
   "outputs": [
    {
     "data": {
      "application/vnd.jupyter.widget-view+json": {
       "model_id": "92bb278acfa644e7949b04d23348061f",
       "version_major": 2,
       "version_minor": 0
      },
      "text/plain": [
       "VBox(children=(Output(), HBox(children=(Label(value='Percent:', layout=Layout(width='4em')), FloatSlider(value…"
      ]
     },
     "metadata": {},
     "output_type": "display_data"
    }
   ],
   "source": [
    "output = widgets.Output()\n",
    "\n",
    "with output:\n",
    "    fig, ax = plt.subplots(figsize=(6,3), constrained_layout=True)\n",
    "    fig.suptitle('SIRD Model with Different Initial Prevalence', fontsize=14, fontweight='bold')\n",
    "    ax.set_title('beta=0.1, gamma=0.05, mu=0.01')\n",
    "    ax.set_xlabel('Time / days')\n",
    "    ax.set_ylabel('Fraction')\n",
    "    ax.set_ylim(0,1)\n",
    "    ax.yaxis.set_tick_params(length=0)\n",
    "    ax.xaxis.set_tick_params(length=0)\n",
    "    ax.grid(b=True, which='major', c='w', lw=1, ls='-')\n",
    "    # Remove the toolbar and header\n",
    "    fig.canvas.toolbar_visible = False\n",
    "    fig.canvas.header_visible = False\n",
    "    fig.canvas.footer_visible = False\n",
    "\n",
    "plot_sird(percent=0.01, beta=0.1, gamma=0.05, mu=0.01)\n",
    "\n",
    "# Create control elements\n",
    "label_percent = widgets.Label('Percent:', layout=widgets.Layout(width='4em'))\n",
    "slider_percent = widgets.FloatSlider(\n",
    "    value=0.01,\n",
    "    min=0.01,\n",
    "    max=1,\n",
    "    step=0.01)\n",
    "\n",
    "# Callback functions\n",
    "def update_percent(slider):\n",
    "    ax.lines = []\n",
    "    plot_sird(percent=slider.new, beta=0.1, gamma=0.05, mu=0.01)\n",
    "\n",
    "# Observe change\n",
    "slider_percent.observe(update_percent, 'value')\n",
    "\n",
    "controls = widgets.HBox([label_percent, slider_percent])\n",
    "display(widgets.VBox([output, controls]))"
   ]
  },
  {
   "cell_type": "markdown",
   "metadata": {},
   "source": [
    "With a higher initial prevalence, the population reaches its infection peak earlier and the cummulative number of deaths is also larger."
   ]
  }
 ],
 "metadata": {
  "kernelspec": {
   "display_name": "Python 3",
   "language": "python",
   "name": "python3"
  },
  "language_info": {
   "codemirror_mode": {
    "name": "ipython",
    "version": 3
   },
   "file_extension": ".py",
   "mimetype": "text/x-python",
   "name": "python",
   "nbconvert_exporter": "python",
   "pygments_lexer": "ipython3",
   "version": "3.9.1"
  },
  "metadata": {
   "interpreter": {
    "hash": "545e036c4b32438aced1f6b3c8d38ca151d9c36189e05839cb0aa568fda70ddd"
   }
  }
 },
 "nbformat": 4,
 "nbformat_minor": 4
}
